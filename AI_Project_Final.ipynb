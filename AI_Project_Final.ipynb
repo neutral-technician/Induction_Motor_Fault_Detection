{
  "nbformat": 4,
  "nbformat_minor": 0,
  "metadata": {
    "colab": {
      "name": "AI Project_Final",
      "provenance": [],
      "collapsed_sections": [],
      "include_colab_link": true
    },
    "kernelspec": {
      "name": "python3",
      "display_name": "Python 3"
    },
    "language_info": {
      "name": "python"
    }
  },
  "cells": [
    {
      "cell_type": "markdown",
      "metadata": {
        "id": "view-in-github",
        "colab_type": "text"
      },
      "source": [
        "<a href=\"https://colab.research.google.com/github/neutral-technician/Induction_Motor_Fault_Detection/blob/main/AI_Project_Final.ipynb\" target=\"_parent\"><img src=\"https://colab.research.google.com/assets/colab-badge.svg\" alt=\"Open In Colab\"/></a>"
      ]
    },
    {
      "cell_type": "code",
      "metadata": {
        "id": "9Uvt-FkRpGmt",
        "colab": {
          "base_uri": "https://localhost:8080/"
        },
        "outputId": "2c65e3c2-d940-4895-e558-94190eef117e"
      },
      "source": [
        "from pathlib import Path\n",
        "import glob\n",
        "from sklearn.model_selection import train_test_split\n",
        "import pandas as pd\n",
        "import matplotlib.pyplot as plt\n",
        "import numpy as np\n",
        "from google.colab import drive\n",
        "from scipy import signal\n",
        "import tensorflow as tf\n",
        "drive.mount('/content/gdrive')\n"
      ],
      "execution_count": 367,
      "outputs": [
        {
          "output_type": "stream",
          "name": "stdout",
          "text": [
            "Drive already mounted at /content/gdrive; to attempt to forcibly remount, call drive.mount(\"/content/gdrive\", force_remount=True).\n"
          ]
        }
      ]
    },
    {
      "cell_type": "code",
      "metadata": {
        "id": "qIT2w_P-vJzZ",
        "colab": {
          "base_uri": "https://localhost:8080/"
        },
        "outputId": "ca1d2983-d702-4cdd-99da-3e2f7338b073"
      },
      "source": [
        "INPUT_DATA_DIR = Path('/content/gdrive/My Drive/fault_data')#path the the normal and imbalanced data\n",
        "NORMAL_FILE_NAMES = glob.glob(str(INPUT_DATA_DIR)+'/normal/*.csv') #returns list of path names\n",
        "print (NORMAL_FILE_NAMES)\n",
        "IMB_SIX = glob.glob(str(INPUT_DATA_DIR)+'/imbalance/6g/*.csv')\n",
        "IMB_TEN = glob.glob(str(INPUT_DATA_DIR)+'/imbalance/10g/*.csv')\n",
        "IMB_FIFTEEN = glob.glob(str(INPUT_DATA_DIR)+'/imbalance/15g/*.csv')\n",
        "IMB_TWENTY = glob.glob(str(INPUT_DATA_DIR)+'/imbalance/20g/*.csv')\n",
        "IMB_TWENTY_FIVE = glob.glob(str(INPUT_DATA_DIR)+'/imbalance/25g/*.csv')\n",
        "IMB_THIRTY = glob.glob(str(INPUT_DATA_DIR)+'/imbalance/30g/*.csv')\n",
        "IMB_THIRTY_FIVE = glob.glob(str(INPUT_DATA_DIR)+'/imbalance/35g/*.csv')"
      ],
      "execution_count": 368,
      "outputs": [
        {
          "output_type": "stream",
          "name": "stdout",
          "text": [
            "['/content/gdrive/My Drive/fault_data/normal/12.288.csv', '/content/gdrive/My Drive/fault_data/normal/13.1072.csv', '/content/gdrive/My Drive/fault_data/normal/14.336.csv', '/content/gdrive/My Drive/fault_data/normal/15.1552.csv', '/content/gdrive/My Drive/fault_data/normal/16.1792.csv', '/content/gdrive/My Drive/fault_data/normal/17.2032.csv', '/content/gdrive/My Drive/fault_data/normal/18.432.csv', '/content/gdrive/My Drive/fault_data/normal/19.6608.csv', '/content/gdrive/My Drive/fault_data/normal/20.2752.csv', '/content/gdrive/My Drive/fault_data/normal/21.7088.csv', '/content/gdrive/My Drive/fault_data/normal/23.552.csv', '/content/gdrive/My Drive/fault_data/normal/22.3232.csv', '/content/gdrive/My Drive/fault_data/normal/24.576.csv', '/content/gdrive/My Drive/fault_data/normal/25.6.csv', '/content/gdrive/My Drive/fault_data/normal/26.624.csv', '/content/gdrive/My Drive/fault_data/normal/27.4432.csv', '/content/gdrive/My Drive/fault_data/normal/29.4912.csv', '/content/gdrive/My Drive/fault_data/normal/28.8768.csv', '/content/gdrive/My Drive/fault_data/normal/30.72.csv', '/content/gdrive/My Drive/fault_data/normal/31.744.csv', '/content/gdrive/My Drive/fault_data/normal/32.9728.csv', '/content/gdrive/My Drive/fault_data/normal/33.5872.csv', '/content/gdrive/My Drive/fault_data/normal/34.2016.csv', '/content/gdrive/My Drive/fault_data/normal/36.4544.csv', '/content/gdrive/My Drive/fault_data/normal/35.4304.csv', '/content/gdrive/My Drive/fault_data/normal/37.6832.csv', '/content/gdrive/My Drive/fault_data/normal/39.3216.csv', '/content/gdrive/My Drive/fault_data/normal/38.2976.csv', '/content/gdrive/My Drive/fault_data/normal/40.3456.csv', '/content/gdrive/My Drive/fault_data/normal/41.7792.csv', '/content/gdrive/My Drive/fault_data/normal/43.6224.csv', '/content/gdrive/My Drive/fault_data/normal/42.3936.csv', '/content/gdrive/My Drive/fault_data/normal/44.6464.csv', '/content/gdrive/My Drive/fault_data/normal/45.4656.csv', '/content/gdrive/My Drive/fault_data/normal/47.7184.csv', '/content/gdrive/My Drive/fault_data/normal/46.2848.csv', '/content/gdrive/My Drive/fault_data/normal/48.9472.csv', '/content/gdrive/My Drive/fault_data/normal/51.8144.csv', '/content/gdrive/My Drive/fault_data/normal/49.5616.csv', '/content/gdrive/My Drive/fault_data/normal/52.4288.csv', '/content/gdrive/My Drive/fault_data/normal/53.8624.csv', '/content/gdrive/My Drive/fault_data/normal/54.6816.csv', '/content/gdrive/My Drive/fault_data/normal/55.7056.csv', '/content/gdrive/My Drive/fault_data/normal/56.7296.csv', '/content/gdrive/My Drive/fault_data/normal/57.9584.csv', '/content/gdrive/My Drive/fault_data/normal/58.7776.csv', '/content/gdrive/My Drive/fault_data/normal/60.416.csv', '/content/gdrive/My Drive/fault_data/normal/59.5968.csv', '/content/gdrive/My Drive/fault_data/normal/61.44.csv']\n"
          ]
        }
      ]
    },
    {
      "cell_type": "code",
      "metadata": {
        "id": "S_HMlDRFwV1E"
      },
      "source": [
        "def dataReader(pathNames):  \n",
        "    dataset = pd.DataFrame()\n",
        "\n",
        "    for i in pathNames: #loop through all pathnames\n",
        "        data_read = pd.read_csv(i, header=None) #read csv\n",
        "        dataset= pd.concat([dataset,data_read], ignore_index=True) #add data to dataset\n",
        "\n",
        "    return dataset"
      ],
      "execution_count": 369,
      "outputs": []
    },
    {
      "cell_type": "code",
      "metadata": {
        "id": "WbQ_Yf2dtMzf"
      },
      "source": [
        "dataNormal = dataReader(NORMAL_FILE_NAMES) #call dataReader function and return dataset\n",
        "data_six= dataReader(IMB_SIX) #repeat for all folders\n",
        "data_ten= dataReader(IMB_TEN)\n",
        "data_fifteen= dataReader(IMB_FIFTEEN)\n",
        "data_twenty= dataReader(IMB_TWENTY)\n",
        "data_twenty_five= dataReader(IMB_TWENTY_FIVE)\n",
        "data_thirty= dataReader(IMB_THIRTY)\n",
        "data_thirty_five= dataReader(IMB_THIRTY_FIVE)"
      ],
      "execution_count": 370,
      "outputs": []
    },
    {
      "cell_type": "code",
      "source": [
        "empties=[\n",
        "dataNormal.isnull().values.any(),\n",
        "data_six.isnull().values.any(),\n",
        "data_ten.isnull().values.any(),\n",
        "data_fifteen.isnull().values.any(),\n",
        "data_twenty.isnull().values.any(),\n",
        "data_twenty_five.isnull().values.any(),\n",
        "data_thirty.isnull().values.any(),\n",
        "data_thirty_five.isnull().values.any()]\n",
        "empties #if all false, no empty data rows"
      ],
      "metadata": {
        "colab": {
          "base_uri": "https://localhost:8080/"
        },
        "id": "ZBRGHTUvjje1",
        "outputId": "9a56f50d-1c89-4382-e59a-306b63403d50"
      },
      "execution_count": 371,
      "outputs": [
        {
          "output_type": "execute_result",
          "data": {
            "text/plain": [
              "[False, False, False, False, False, False, False, False]"
            ]
          },
          "metadata": {},
          "execution_count": 371
        }
      ]
    },
    {
      "cell_type": "code",
      "metadata": {
        "id": "JEbbrAiD36HQ"
      },
      "source": [
        "def downSampler(data,dB,d):\n",
        "    data_decreased = pd.DataFrame()\n",
        "    x = d #number we divide sample size by\n",
        "    for i in range(int(len(data)/x)): #from 0 to data length/input\n",
        "        data_decreased = data_decreased.append(data.iloc[dB:d,:].sum()/x,ignore_index=True)\n",
        "        dB += x\n",
        "        d += x\n",
        "    return data_decreased"
      ],
      "execution_count": 372,
      "outputs": []
    },
    {
      "cell_type": "code",
      "metadata": {
        "id": "T2YFiSGT4Tuh"
      },
      "source": [
        "dataNormal = downSampler(dataNormal, 0, 2000) #sampling rate set to 2000\n",
        "data6g = downSampler(data_six, 0, 2000)\n",
        "data10g = downSampler(data_ten, 0, 2000)\n",
        "data15g = downSampler(data_fifteen, 0, 2000)\n",
        "data20g = downSampler(data_twenty, 0, 2000)\n",
        "data25g = downSampler(data_twenty_five, 0, 2000)\n",
        "data30g = downSampler(data_thirty, 0, 2000)\n",
        "data35g = downSampler(data_thirty_five, 0, 2000)"
      ],
      "execution_count": 373,
      "outputs": []
    },
    {
      "cell_type": "code",
      "source": [
        "plt.plot(dataNormal)\n",
        "plt.show()"
      ],
      "metadata": {
        "id": "cwHKn6qwda9O",
        "outputId": "96f9a166-8f9c-49ab-f122-33264f8d6bda",
        "colab": {
          "base_uri": "https://localhost:8080/",
          "height": 265
        }
      },
      "execution_count": 374,
      "outputs": [
        {
          "output_type": "display_data",
          "data": {
            "image/png": "[encoded data removed]",
            "text/plain": [
              "<Figure size 432x288 with 1 Axes>"
            ]
          },
          "metadata": {
            "needs_background": "light"
          }
        }
      ]
    },
    {
      "cell_type": "code",
      "source": [
        "dataNormal = dataNormal.rolling(window=27).mean().dropna()\n",
        "data6g = data6g.rolling(window=27).mean().dropna()\n",
        "data10g = data10g.rolling(window=27).mean().dropna()\n",
        "data15g = data15g.rolling(window=27).mean().dropna()\n",
        "data20g = data20g.rolling(window=27).mean().dropna()\n",
        "data25g = data25g.rolling(window=27).mean().dropna()\n",
        "data30g = data30g.rolling(window=27).mean().dropna()\n",
        "data35g = data35g.rolling(window=27).mean().dropna()\n",
        "dataNormal = dataNormal[100:-100]\n",
        "data6g = data6g[100:-100]\n",
        "data10g = data10g[100:-100]\n",
        "data15g = data15g[100:-100]\n",
        "data20g = data20g[100:-100]\n",
        "data25g = data25g[100:-100]\n",
        "data30g = data30g[100:-100]\n",
        "data35g = data35g[100:-100]\n",
        "plt.plot(dataNormal)\n",
        "plt.show()"
      ],
      "metadata": {
        "colab": {
          "base_uri": "https://localhost:8080/",
          "height": 265
        },
        "id": "3wzkUqOJZLfv",
        "outputId": "2feb598e-90e1-4cc1-f6f1-1de6eb576f4e"
      },
      "execution_count": 391,
      "outputs": [
        {
          "output_type": "display_data",
          "data": {
            "image/png": "[encoded data removed]",
            "text/plain": [
              "<Figure size 432x288 with 1 Axes>"
            ]
          },
          "metadata": {
            "needs_background": "light"
          }
        }
      ]
    },
    {
      "cell_type": "code",
      "metadata": {
        "id": "nsmn9pNSDOBw",
        "colab": {
          "base_uri": "https://localhost:8080/",
          "height": 423
        },
        "outputId": "a112c340-fb01-4d35-e7a6-6894f6e48f20"
      },
      "source": [
        " #new column, with single digit indicator of for fault type \n",
        "n1 = pd.DataFrame(np.zeros(int(len(dataNormal)),dtype=int)) #0 for no fault\n",
        "n2 = pd.DataFrame(np.ones(int(len(data6g)),dtype=int)) #1-7 for imbalance of 6g-35g imbalance\n",
        "n3 = pd.DataFrame(np.full((int(len(data10g)),1),2))\n",
        "n4 = pd.DataFrame(np.full((int(len(data15g)),1),3))\n",
        "n5 = pd.DataFrame(np.full((int(len(data20g)),1),4))\n",
        "n6 = pd.DataFrame(np.full((int(len(data25g)),1),5))\n",
        "n7 = pd.DataFrame(np.full((int(len(data30g)),1),6))\n",
        "n8 = pd.DataFrame(np.full((int(len(data35g)),1),7))\n",
        "y = pd.concat([n1,n2,n3,n4,n5,n6,n7,n8], ignore_index=True)#concatenate all y columns together\n",
        "y"
      ],
      "execution_count": 392,
      "outputs": [
        {
          "output_type": "execute_result",
          "data": {
            "text/html": [
              "<div>\n",
              "<style scoped>\n",
              "    .dataframe tbody tr th:only-of-type {\n",
              "        vertical-align: middle;\n",
              "    }\n",
              "\n",
              "    .dataframe tbody tr th {\n",
              "        vertical-align: top;\n",
              "    }\n",
              "\n",
              "    .dataframe thead th {\n",
              "        text-align: right;\n",
              "    }\n",
              "</style>\n",
              "<table border=\"1\" class=\"dataframe\">\n",
              "  <thead>\n",
              "    <tr style=\"text-align: right;\">\n",
              "      <th></th>\n",
              "      <th>0</th>\n",
              "    </tr>\n",
              "  </thead>\n",
              "  <tbody>\n",
              "    <tr>\n",
              "      <th>0</th>\n",
              "      <td>0</td>\n",
              "    </tr>\n",
              "    <tr>\n",
              "      <th>1</th>\n",
              "      <td>0</td>\n",
              "    </tr>\n",
              "    <tr>\n",
              "      <th>2</th>\n",
              "      <td>0</td>\n",
              "    </tr>\n",
              "    <tr>\n",
              "      <th>3</th>\n",
              "      <td>0</td>\n",
              "    </tr>\n",
              "    <tr>\n",
              "      <th>4</th>\n",
              "      <td>0</td>\n",
              "    </tr>\n",
              "    <tr>\n",
              "      <th>...</th>\n",
              "      <td>...</td>\n",
              "    </tr>\n",
              "    <tr>\n",
              "      <th>44177</th>\n",
              "      <td>7</td>\n",
              "    </tr>\n",
              "    <tr>\n",
              "      <th>44178</th>\n",
              "      <td>7</td>\n",
              "    </tr>\n",
              "    <tr>\n",
              "      <th>44179</th>\n",
              "      <td>7</td>\n",
              "    </tr>\n",
              "    <tr>\n",
              "      <th>44180</th>\n",
              "      <td>7</td>\n",
              "    </tr>\n",
              "    <tr>\n",
              "      <th>44181</th>\n",
              "      <td>7</td>\n",
              "    </tr>\n",
              "  </tbody>\n",
              "</table>\n",
              "<p>44182 rows × 1 columns</p>\n",
              "</div>"
            ],
            "text/plain": [
              "       0\n",
              "0      0\n",
              "1      0\n",
              "2      0\n",
              "3      0\n",
              "4      0\n",
              "...   ..\n",
              "44177  7\n",
              "44178  7\n",
              "44179  7\n",
              "44180  7\n",
              "44181  7\n",
              "\n",
              "[44182 rows x 1 columns]"
            ]
          },
          "metadata": {},
          "execution_count": 392
        }
      ]
    },
    {
      "cell_type": "code",
      "metadata": {
        "id": "fHRd4GmTs0Bb",
        "colab": {
          "base_uri": "https://localhost:8080/",
          "height": 423
        },
        "outputId": "cc48c2eb-3535-4801-d532-56ff4254472d"
      },
      "source": [
        "X = pd.concat([dataNormal,data6g,data10g,data15g,data20g,data25g,data30g,data35g],ignore_index=True)\n",
        "X"
      ],
      "execution_count": 393,
      "outputs": [
        {
          "output_type": "execute_result",
          "data": {
            "text/html": [
              "<div>\n",
              "<style scoped>\n",
              "    .dataframe tbody tr th:only-of-type {\n",
              "        vertical-align: middle;\n",
              "    }\n",
              "\n",
              "    .dataframe tbody tr th {\n",
              "        vertical-align: top;\n",
              "    }\n",
              "\n",
              "    .dataframe thead th {\n",
              "        text-align: right;\n",
              "    }\n",
              "</style>\n",
              "<table border=\"1\" class=\"dataframe\">\n",
              "  <thead>\n",
              "    <tr style=\"text-align: right;\">\n",
              "      <th></th>\n",
              "      <th>0</th>\n",
              "      <th>1</th>\n",
              "      <th>2</th>\n",
              "      <th>3</th>\n",
              "      <th>4</th>\n",
              "      <th>5</th>\n",
              "      <th>6</th>\n",
              "      <th>7</th>\n",
              "    </tr>\n",
              "  </thead>\n",
              "  <tbody>\n",
              "    <tr>\n",
              "      <th>0</th>\n",
              "      <td>-0.002777</td>\n",
              "      <td>0.011991</td>\n",
              "      <td>-0.001192</td>\n",
              "      <td>0.000425</td>\n",
              "      <td>0.088545</td>\n",
              "      <td>0.003242</td>\n",
              "      <td>0.012961</td>\n",
              "      <td>0.007507</td>\n",
              "    </tr>\n",
              "    <tr>\n",
              "      <th>1</th>\n",
              "      <td>-0.002646</td>\n",
              "      <td>0.012094</td>\n",
              "      <td>-0.001219</td>\n",
              "      <td>0.000423</td>\n",
              "      <td>0.098944</td>\n",
              "      <td>0.003312</td>\n",
              "      <td>0.015146</td>\n",
              "      <td>0.007509</td>\n",
              "    </tr>\n",
              "    <tr>\n",
              "      <th>2</th>\n",
              "      <td>-0.002570</td>\n",
              "      <td>0.011890</td>\n",
              "      <td>-0.001251</td>\n",
              "      <td>0.000418</td>\n",
              "      <td>0.110212</td>\n",
              "      <td>0.003355</td>\n",
              "      <td>0.018111</td>\n",
              "      <td>0.007497</td>\n",
              "    </tr>\n",
              "    <tr>\n",
              "      <th>3</th>\n",
              "      <td>-0.002479</td>\n",
              "      <td>0.011407</td>\n",
              "      <td>-0.001265</td>\n",
              "      <td>0.000407</td>\n",
              "      <td>0.121088</td>\n",
              "      <td>0.003400</td>\n",
              "      <td>0.021787</td>\n",
              "      <td>0.007517</td>\n",
              "    </tr>\n",
              "    <tr>\n",
              "      <th>4</th>\n",
              "      <td>-0.002264</td>\n",
              "      <td>0.011783</td>\n",
              "      <td>-0.001217</td>\n",
              "      <td>0.000408</td>\n",
              "      <td>0.127023</td>\n",
              "      <td>0.003395</td>\n",
              "      <td>0.024893</td>\n",
              "      <td>0.007532</td>\n",
              "    </tr>\n",
              "    <tr>\n",
              "      <th>...</th>\n",
              "      <td>...</td>\n",
              "      <td>...</td>\n",
              "      <td>...</td>\n",
              "      <td>...</td>\n",
              "      <td>...</td>\n",
              "      <td>...</td>\n",
              "      <td>...</td>\n",
              "      <td>...</td>\n",
              "    </tr>\n",
              "    <tr>\n",
              "      <th>44177</th>\n",
              "      <td>-0.002936</td>\n",
              "      <td>0.002453</td>\n",
              "      <td>0.001879</td>\n",
              "      <td>0.000384</td>\n",
              "      <td>0.013999</td>\n",
              "      <td>0.004007</td>\n",
              "      <td>0.116106</td>\n",
              "      <td>-0.005898</td>\n",
              "    </tr>\n",
              "    <tr>\n",
              "      <th>44178</th>\n",
              "      <td>-0.002487</td>\n",
              "      <td>0.002381</td>\n",
              "      <td>0.000166</td>\n",
              "      <td>0.000092</td>\n",
              "      <td>0.014919</td>\n",
              "      <td>0.004221</td>\n",
              "      <td>0.142108</td>\n",
              "      <td>-0.006444</td>\n",
              "    </tr>\n",
              "    <tr>\n",
              "      <th>44179</th>\n",
              "      <td>-0.002561</td>\n",
              "      <td>0.001679</td>\n",
              "      <td>-0.000693</td>\n",
              "      <td>0.000146</td>\n",
              "      <td>0.015481</td>\n",
              "      <td>0.004366</td>\n",
              "      <td>0.168109</td>\n",
              "      <td>-0.006991</td>\n",
              "    </tr>\n",
              "    <tr>\n",
              "      <th>44180</th>\n",
              "      <td>-0.003195</td>\n",
              "      <td>0.000842</td>\n",
              "      <td>-0.000134</td>\n",
              "      <td>0.000407</td>\n",
              "      <td>0.015754</td>\n",
              "      <td>0.004477</td>\n",
              "      <td>0.193032</td>\n",
              "      <td>-0.007529</td>\n",
              "    </tr>\n",
              "    <tr>\n",
              "      <th>44181</th>\n",
              "      <td>-0.002938</td>\n",
              "      <td>0.000793</td>\n",
              "      <td>0.000940</td>\n",
              "      <td>0.000505</td>\n",
              "      <td>0.016071</td>\n",
              "      <td>0.004589</td>\n",
              "      <td>0.216532</td>\n",
              "      <td>-0.008004</td>\n",
              "    </tr>\n",
              "  </tbody>\n",
              "</table>\n",
              "<p>44182 rows × 8 columns</p>\n",
              "</div>"
            ],
            "text/plain": [
              "              0         1         2  ...         5         6         7\n",
              "0     -0.002777  0.011991 -0.001192  ...  0.003242  0.012961  0.007507\n",
              "1     -0.002646  0.012094 -0.001219  ...  0.003312  0.015146  0.007509\n",
              "2     -0.002570  0.011890 -0.001251  ...  0.003355  0.018111  0.007497\n",
              "3     -0.002479  0.011407 -0.001265  ...  0.003400  0.021787  0.007517\n",
              "4     -0.002264  0.011783 -0.001217  ...  0.003395  0.024893  0.007532\n",
              "...         ...       ...       ...  ...       ...       ...       ...\n",
              "44177 -0.002936  0.002453  0.001879  ...  0.004007  0.116106 -0.005898\n",
              "44178 -0.002487  0.002381  0.000166  ...  0.004221  0.142108 -0.006444\n",
              "44179 -0.002561  0.001679 -0.000693  ...  0.004366  0.168109 -0.006991\n",
              "44180 -0.003195  0.000842 -0.000134  ...  0.004477  0.193032 -0.007529\n",
              "44181 -0.002938  0.000793  0.000940  ...  0.004589  0.216532 -0.008004\n",
              "\n",
              "[44182 rows x 8 columns]"
            ]
          },
          "metadata": {},
          "execution_count": 393
        }
      ]
    },
    {
      "cell_type": "code",
      "metadata": {
        "id": "TB63pHlKu0Y1"
      },
      "source": [
        "X_train, X_test, y_train, y_test = train_test_split(X, y, test_size=0.25)"
      ],
      "execution_count": 394,
      "outputs": []
    },
    {
      "cell_type": "code",
      "source": [
        "X_test.shape"
      ],
      "metadata": {
        "colab": {
          "base_uri": "https://localhost:8080/"
        },
        "id": "6PcGs0V2WlM8",
        "outputId": "c0b3d7ed-4edc-4558-8f72-c582deceff4d"
      },
      "execution_count": 395,
      "outputs": [
        {
          "output_type": "execute_result",
          "data": {
            "text/plain": [
              "(11046, 8)"
            ]
          },
          "metadata": {},
          "execution_count": 395
        }
      ]
    },
    {
      "cell_type": "code",
      "source": [
        "y_train.shape"
      ],
      "metadata": {
        "colab": {
          "base_uri": "https://localhost:8080/"
        },
        "id": "9U7pjck3XaXF",
        "outputId": "3a171dfe-9f0d-4129-a66f-b35703458701"
      },
      "execution_count": 396,
      "outputs": [
        {
          "output_type": "execute_result",
          "data": {
            "text/plain": [
              "(33136, 1)"
            ]
          },
          "metadata": {},
          "execution_count": 396
        }
      ]
    },
    {
      "cell_type": "code",
      "metadata": {
        "colab": {
          "base_uri": "https://localhost:8080/"
        },
        "id": "SNNkcgyryEoH",
        "outputId": "d2e5c073-a817-43ae-c1f7-ad51d6455bcd"
      },
      "source": [
        "model = tf.keras.models.Sequential()\n",
        "\n",
        "model.add(tf.keras.layers.Dense(units= 32, activation='relu', input_shape=(8,)))\n",
        "model.add(tf.keras.layers.Dense(units= 64, activation='relu'))\n",
        "model.add(tf.keras.layers.Dense(units= 128, activation='relu'))\n",
        "model.add(tf.keras.layers.Dense(units= 256, activation='relu'))\n",
        "model.add(tf.keras.layers.Dense(units= 512, activation='relu'))\n",
        "model.add(tf.keras.layers.Dense(units= 256, activation='relu'))\n",
        "model.add(tf.keras.layers.Dense(units= 128, activation='relu'))\n",
        "model.add(tf.keras.layers.Dense(units= 64, activation='relu'))\n",
        "model.add(tf.keras.layers.Dense(units= 32, activation='relu'))\n",
        "model.add(tf.keras.layers.Dense(units= 8, activation='softmax'))\n",
        "\n",
        "model.compile(optimizer='adam', loss='sparse_categorical_crossentropy', metrics=['accuracy'])\n",
        "model.summary()"
      ],
      "execution_count": 397,
      "outputs": [
        {
          "output_type": "stream",
          "name": "stdout",
          "text": [
            "Model: \"sequential_25\"\n",
            "_________________________________________________________________\n",
            " Layer (type)                Output Shape              Param #   \n",
            "=================================================================\n",
            " dense_208 (Dense)           (None, 32)                288       \n",
            "                                                                 \n",
            " dense_209 (Dense)           (None, 64)                2112      \n",
            "                                                                 \n",
            " dense_210 (Dense)           (None, 128)               8320      \n",
            "                                                                 \n",
            " dense_211 (Dense)           (None, 256)               33024     \n",
            "                                                                 \n",
            " dense_212 (Dense)           (None, 512)               131584    \n",
            "                                                                 \n",
            " dense_213 (Dense)           (None, 256)               131328    \n",
            "                                                                 \n",
            " dense_214 (Dense)           (None, 128)               32896     \n",
            "                                                                 \n",
            " dense_215 (Dense)           (None, 64)                8256      \n",
            "                                                                 \n",
            " dense_216 (Dense)           (None, 32)                2080      \n",
            "                                                                 \n",
            " dense_217 (Dense)           (None, 8)                 264       \n",
            "                                                                 \n",
            "=================================================================\n",
            "Total params: 350,152\n",
            "Trainable params: 350,152\n",
            "Non-trainable params: 0\n",
            "_________________________________________________________________\n"
          ]
        }
      ]
    },
    {
      "cell_type": "code",
      "metadata": {
        "colab": {
          "base_uri": "https://localhost:8080/"
        },
        "id": "px5i4-qqyuxr",
        "outputId": "7727898f-7946-49c6-ed67-db29d5981f5b"
      },
      "source": [
        "hist = model.fit(X_train , y_train , epochs=100, validation_split=0.2)"
      ],
      "execution_count": 398,
      "outputs": [
        {
          "output_type": "stream",
          "name": "stdout",
          "text": [
            "Epoch 1/100\n",
            "829/829 [==============================] - 6s 7ms/step - loss: 1.5096 - accuracy: 0.3655 - val_loss: 1.3256 - val_accuracy: 0.4101\n",
            "Epoch 2/100\n",
            "829/829 [==============================] - 5s 7ms/step - loss: 1.2155 - accuracy: 0.5014 - val_loss: 1.4252 - val_accuracy: 0.4218\n",
            "Epoch 3/100\n",
            "829/829 [==============================] - 5s 7ms/step - loss: 1.1082 - accuracy: 0.5507 - val_loss: 1.1575 - val_accuracy: 0.5202\n",
            "Epoch 4/100\n",
            "829/829 [==============================] - 7s 8ms/step - loss: 1.0610 - accuracy: 0.5715 - val_loss: 0.9877 - val_accuracy: 0.6062\n",
            "Epoch 5/100\n",
            "829/829 [==============================] - 5s 6ms/step - loss: 1.0391 - accuracy: 0.5768 - val_loss: 1.1260 - val_accuracy: 0.5367\n",
            "Epoch 6/100\n",
            "829/829 [==============================] - 5s 7ms/step - loss: 1.0022 - accuracy: 0.5916 - val_loss: 0.9905 - val_accuracy: 0.6033\n",
            "Epoch 7/100\n",
            "829/829 [==============================] - 5s 7ms/step - loss: 0.9759 - accuracy: 0.6068 - val_loss: 0.9741 - val_accuracy: 0.5949\n",
            "Epoch 8/100\n",
            "829/829 [==============================] - 5s 6ms/step - loss: 0.9556 - accuracy: 0.6124 - val_loss: 0.9820 - val_accuracy: 0.5917\n",
            "Epoch 9/100\n",
            "829/829 [==============================] - 5s 6ms/step - loss: 0.9459 - accuracy: 0.6163 - val_loss: 0.9665 - val_accuracy: 0.5938\n",
            "Epoch 10/100\n",
            "829/829 [==============================] - 5s 7ms/step - loss: 0.9280 - accuracy: 0.6244 - val_loss: 0.8910 - val_accuracy: 0.6450\n",
            "Epoch 11/100\n",
            "829/829 [==============================] - 5s 6ms/step - loss: 0.9197 - accuracy: 0.6263 - val_loss: 0.9385 - val_accuracy: 0.6230\n",
            "Epoch 12/100\n",
            "829/829 [==============================] - 5s 6ms/step - loss: 0.9058 - accuracy: 0.6293 - val_loss: 0.9482 - val_accuracy: 0.6227\n",
            "Epoch 13/100\n",
            "829/829 [==============================] - 5s 7ms/step - loss: 0.8830 - accuracy: 0.6408 - val_loss: 0.8839 - val_accuracy: 0.6391\n",
            "Epoch 14/100\n",
            "829/829 [==============================] - 5s 7ms/step - loss: 0.8749 - accuracy: 0.6426 - val_loss: 0.8577 - val_accuracy: 0.6473\n",
            "Epoch 15/100\n",
            "829/829 [==============================] - 5s 6ms/step - loss: 0.8576 - accuracy: 0.6495 - val_loss: 0.8156 - val_accuracy: 0.6530\n",
            "Epoch 16/100\n",
            "829/829 [==============================] - 5s 7ms/step - loss: 0.8444 - accuracy: 0.6540 - val_loss: 0.8841 - val_accuracy: 0.6473\n",
            "Epoch 17/100\n",
            "829/829 [==============================] - 5s 6ms/step - loss: 0.8251 - accuracy: 0.6623 - val_loss: 0.7976 - val_accuracy: 0.6678\n",
            "Epoch 18/100\n",
            "829/829 [==============================] - 6s 7ms/step - loss: 0.8173 - accuracy: 0.6646 - val_loss: 0.8844 - val_accuracy: 0.6471\n",
            "Epoch 19/100\n",
            "829/829 [==============================] - 5s 6ms/step - loss: 0.8141 - accuracy: 0.6666 - val_loss: 0.8260 - val_accuracy: 0.6688\n",
            "Epoch 20/100\n",
            "829/829 [==============================] - 6s 7ms/step - loss: 0.8024 - accuracy: 0.6701 - val_loss: 0.7766 - val_accuracy: 0.6809\n",
            "Epoch 21/100\n",
            "829/829 [==============================] - 5s 6ms/step - loss: 0.7933 - accuracy: 0.6773 - val_loss: 0.7886 - val_accuracy: 0.6818\n",
            "Epoch 22/100\n",
            "829/829 [==============================] - 5s 6ms/step - loss: 0.7678 - accuracy: 0.6875 - val_loss: 0.7835 - val_accuracy: 0.6823\n",
            "Epoch 23/100\n",
            "829/829 [==============================] - 5s 6ms/step - loss: 0.7481 - accuracy: 0.6948 - val_loss: 0.7541 - val_accuracy: 0.6992\n",
            "Epoch 24/100\n",
            "829/829 [==============================] - 5s 6ms/step - loss: 0.7473 - accuracy: 0.6955 - val_loss: 0.7873 - val_accuracy: 0.6759\n",
            "Epoch 25/100\n",
            "829/829 [==============================] - 6s 7ms/step - loss: 0.7400 - accuracy: 0.6984 - val_loss: 0.7335 - val_accuracy: 0.6951\n",
            "Epoch 26/100\n",
            "829/829 [==============================] - 6s 7ms/step - loss: 0.7397 - accuracy: 0.6993 - val_loss: 0.8587 - val_accuracy: 0.6649\n",
            "Epoch 27/100\n",
            "829/829 [==============================] - 5s 6ms/step - loss: 0.7245 - accuracy: 0.7030 - val_loss: 0.7146 - val_accuracy: 0.7062\n",
            "Epoch 28/100\n",
            "829/829 [==============================] - 5s 6ms/step - loss: 0.7061 - accuracy: 0.7122 - val_loss: 0.6737 - val_accuracy: 0.7242\n",
            "Epoch 29/100\n",
            "829/829 [==============================] - 5s 6ms/step - loss: 0.7045 - accuracy: 0.7125 - val_loss: 0.7200 - val_accuracy: 0.7084\n",
            "Epoch 30/100\n",
            "829/829 [==============================] - 5s 7ms/step - loss: 0.7027 - accuracy: 0.7124 - val_loss: 0.6776 - val_accuracy: 0.7289\n",
            "Epoch 31/100\n",
            "829/829 [==============================] - 5s 6ms/step - loss: 0.6804 - accuracy: 0.7238 - val_loss: 0.7328 - val_accuracy: 0.7050\n",
            "Epoch 32/100\n",
            "829/829 [==============================] - 5s 6ms/step - loss: 0.6806 - accuracy: 0.7210 - val_loss: 0.6549 - val_accuracy: 0.7357\n",
            "Epoch 33/100\n",
            "829/829 [==============================] - 5s 6ms/step - loss: 0.6740 - accuracy: 0.7234 - val_loss: 0.7611 - val_accuracy: 0.6934\n",
            "Epoch 34/100\n",
            "829/829 [==============================] - 5s 6ms/step - loss: 0.6585 - accuracy: 0.7325 - val_loss: 0.6904 - val_accuracy: 0.7204\n",
            "Epoch 35/100\n",
            "829/829 [==============================] - 5s 7ms/step - loss: 0.6492 - accuracy: 0.7362 - val_loss: 0.6837 - val_accuracy: 0.7253\n",
            "Epoch 36/100\n",
            "829/829 [==============================] - 6s 7ms/step - loss: 0.6459 - accuracy: 0.7380 - val_loss: 0.7086 - val_accuracy: 0.7103\n",
            "Epoch 37/100\n",
            "829/829 [==============================] - 5s 6ms/step - loss: 0.6342 - accuracy: 0.7409 - val_loss: 0.7287 - val_accuracy: 0.7056\n",
            "Epoch 38/100\n",
            "829/829 [==============================] - 5s 6ms/step - loss: 0.6260 - accuracy: 0.7431 - val_loss: 0.6700 - val_accuracy: 0.7283\n",
            "Epoch 39/100\n",
            "829/829 [==============================] - 6s 7ms/step - loss: 0.6325 - accuracy: 0.7445 - val_loss: 0.6066 - val_accuracy: 0.7592\n",
            "Epoch 40/100\n",
            "829/829 [==============================] - 5s 7ms/step - loss: 0.6273 - accuracy: 0.7432 - val_loss: 0.6364 - val_accuracy: 0.7464\n",
            "Epoch 41/100\n",
            "829/829 [==============================] - 5s 7ms/step - loss: 0.5979 - accuracy: 0.7563 - val_loss: 0.6923 - val_accuracy: 0.7251\n",
            "Epoch 42/100\n",
            "829/829 [==============================] - 5s 6ms/step - loss: 0.5883 - accuracy: 0.7581 - val_loss: 0.6130 - val_accuracy: 0.7536\n",
            "Epoch 43/100\n",
            "829/829 [==============================] - 5s 6ms/step - loss: 0.5811 - accuracy: 0.7615 - val_loss: 0.6474 - val_accuracy: 0.7399\n",
            "Epoch 44/100\n",
            "829/829 [==============================] - 5s 6ms/step - loss: 0.5764 - accuracy: 0.7629 - val_loss: 0.6105 - val_accuracy: 0.7509\n",
            "Epoch 45/100\n",
            "829/829 [==============================] - 6s 7ms/step - loss: 0.5619 - accuracy: 0.7701 - val_loss: 0.5732 - val_accuracy: 0.7701\n",
            "Epoch 46/100\n",
            "829/829 [==============================] - 6s 7ms/step - loss: 0.5597 - accuracy: 0.7694 - val_loss: 0.6067 - val_accuracy: 0.7530\n",
            "Epoch 47/100\n",
            "829/829 [==============================] - 5s 6ms/step - loss: 0.5607 - accuracy: 0.7730 - val_loss: 0.5614 - val_accuracy: 0.7832\n",
            "Epoch 48/100\n",
            "829/829 [==============================] - 5s 6ms/step - loss: 0.5522 - accuracy: 0.7769 - val_loss: 0.5953 - val_accuracy: 0.7680\n",
            "Epoch 49/100\n",
            "829/829 [==============================] - 5s 7ms/step - loss: 0.5301 - accuracy: 0.7821 - val_loss: 0.6285 - val_accuracy: 0.7485\n",
            "Epoch 50/100\n",
            "829/829 [==============================] - 6s 7ms/step - loss: 0.5447 - accuracy: 0.7805 - val_loss: 0.5573 - val_accuracy: 0.7767\n",
            "Epoch 51/100\n",
            "829/829 [==============================] - 6s 7ms/step - loss: 0.5205 - accuracy: 0.7880 - val_loss: 0.5331 - val_accuracy: 0.7960\n",
            "Epoch 52/100\n",
            "829/829 [==============================] - 5s 7ms/step - loss: 0.5382 - accuracy: 0.7827 - val_loss: 0.5694 - val_accuracy: 0.7802\n",
            "Epoch 53/100\n",
            "829/829 [==============================] - 5s 7ms/step - loss: 0.4960 - accuracy: 0.7964 - val_loss: 0.5103 - val_accuracy: 0.7951\n",
            "Epoch 54/100\n",
            "829/829 [==============================] - 6s 7ms/step - loss: 0.5002 - accuracy: 0.7929 - val_loss: 0.5894 - val_accuracy: 0.7655\n",
            "Epoch 55/100\n",
            "829/829 [==============================] - 6s 7ms/step - loss: 0.4904 - accuracy: 0.7989 - val_loss: 0.5447 - val_accuracy: 0.7779\n",
            "Epoch 56/100\n",
            "829/829 [==============================] - 6s 7ms/step - loss: 0.4921 - accuracy: 0.7981 - val_loss: 0.6482 - val_accuracy: 0.7379\n",
            "Epoch 57/100\n",
            "829/829 [==============================] - 5s 6ms/step - loss: 0.4853 - accuracy: 0.8015 - val_loss: 0.5693 - val_accuracy: 0.7726\n",
            "Epoch 58/100\n",
            "829/829 [==============================] - 5s 6ms/step - loss: 0.4638 - accuracy: 0.8104 - val_loss: 0.5003 - val_accuracy: 0.8034\n",
            "Epoch 59/100\n",
            "829/829 [==============================] - 6s 7ms/step - loss: 0.4535 - accuracy: 0.8139 - val_loss: 0.4737 - val_accuracy: 0.8114\n",
            "Epoch 60/100\n",
            "829/829 [==============================] - 5s 6ms/step - loss: 0.4518 - accuracy: 0.8160 - val_loss: 0.5394 - val_accuracy: 0.7907\n",
            "Epoch 61/100\n",
            "829/829 [==============================] - 5s 6ms/step - loss: 0.4484 - accuracy: 0.8179 - val_loss: 0.5202 - val_accuracy: 0.7903\n",
            "Epoch 62/100\n",
            "829/829 [==============================] - 5s 6ms/step - loss: 0.4406 - accuracy: 0.8209 - val_loss: 0.5333 - val_accuracy: 0.7904\n",
            "Epoch 63/100\n",
            "829/829 [==============================] - 5s 6ms/step - loss: 0.4298 - accuracy: 0.8240 - val_loss: 0.6069 - val_accuracy: 0.7740\n",
            "Epoch 64/100\n",
            "829/829 [==============================] - 5s 6ms/step - loss: 0.4193 - accuracy: 0.8314 - val_loss: 0.4606 - val_accuracy: 0.8200\n",
            "Epoch 65/100\n",
            "829/829 [==============================] - 5s 7ms/step - loss: 0.4132 - accuracy: 0.8299 - val_loss: 0.4376 - val_accuracy: 0.8291\n",
            "Epoch 66/100\n",
            "829/829 [==============================] - 5s 6ms/step - loss: 0.3941 - accuracy: 0.8400 - val_loss: 0.5378 - val_accuracy: 0.7886\n",
            "Epoch 67/100\n",
            "829/829 [==============================] - 5s 7ms/step - loss: 0.4040 - accuracy: 0.8349 - val_loss: 0.4638 - val_accuracy: 0.8156\n",
            "Epoch 68/100\n",
            "829/829 [==============================] - 6s 7ms/step - loss: 0.4000 - accuracy: 0.8380 - val_loss: 0.4379 - val_accuracy: 0.8408\n",
            "Epoch 69/100\n",
            "829/829 [==============================] - 6s 7ms/step - loss: 0.3885 - accuracy: 0.8434 - val_loss: 0.4951 - val_accuracy: 0.8058\n",
            "Epoch 70/100\n",
            "829/829 [==============================] - 5s 7ms/step - loss: 0.3878 - accuracy: 0.8445 - val_loss: 0.4843 - val_accuracy: 0.8122\n",
            "Epoch 71/100\n",
            "829/829 [==============================] - 6s 7ms/step - loss: 0.3829 - accuracy: 0.8461 - val_loss: 0.4115 - val_accuracy: 0.8399\n",
            "Epoch 72/100\n",
            "829/829 [==============================] - 10s 13ms/step - loss: 0.3876 - accuracy: 0.8457 - val_loss: 0.5786 - val_accuracy: 0.7844\n",
            "Epoch 73/100\n",
            "829/829 [==============================] - 5s 6ms/step - loss: 0.3764 - accuracy: 0.8464 - val_loss: 0.4082 - val_accuracy: 0.8447\n",
            "Epoch 74/100\n",
            "829/829 [==============================] - 5s 6ms/step - loss: 0.3639 - accuracy: 0.8530 - val_loss: 0.4549 - val_accuracy: 0.8209\n",
            "Epoch 75/100\n",
            "829/829 [==============================] - 6s 7ms/step - loss: 0.3574 - accuracy: 0.8560 - val_loss: 0.4326 - val_accuracy: 0.8366\n",
            "Epoch 76/100\n",
            "829/829 [==============================] - 5s 6ms/step - loss: 0.3470 - accuracy: 0.8617 - val_loss: 0.4199 - val_accuracy: 0.8482\n",
            "Epoch 77/100\n",
            "829/829 [==============================] - 5s 6ms/step - loss: 0.3388 - accuracy: 0.8629 - val_loss: 0.4713 - val_accuracy: 0.8277\n",
            "Epoch 78/100\n",
            "829/829 [==============================] - 6s 7ms/step - loss: 0.3443 - accuracy: 0.8603 - val_loss: 0.6467 - val_accuracy: 0.7731\n",
            "Epoch 79/100\n",
            "829/829 [==============================] - 6s 7ms/step - loss: 0.3488 - accuracy: 0.8633 - val_loss: 0.4063 - val_accuracy: 0.8441\n",
            "Epoch 80/100\n",
            "829/829 [==============================] - 5s 7ms/step - loss: 0.3342 - accuracy: 0.8657 - val_loss: 0.4442 - val_accuracy: 0.8352\n",
            "Epoch 81/100\n",
            "829/829 [==============================] - 6s 7ms/step - loss: 0.3211 - accuracy: 0.8726 - val_loss: 0.5186 - val_accuracy: 0.8110\n",
            "Epoch 82/100\n",
            "829/829 [==============================] - 5s 6ms/step - loss: 0.3330 - accuracy: 0.8672 - val_loss: 0.4532 - val_accuracy: 0.8307\n",
            "Epoch 83/100\n",
            "829/829 [==============================] - 6s 7ms/step - loss: 0.3349 - accuracy: 0.8668 - val_loss: 0.3854 - val_accuracy: 0.8540\n",
            "Epoch 84/100\n",
            "829/829 [==============================] - 5s 6ms/step - loss: 0.3196 - accuracy: 0.8719 - val_loss: 0.4202 - val_accuracy: 0.8369\n",
            "Epoch 85/100\n",
            "829/829 [==============================] - 5s 6ms/step - loss: 0.3158 - accuracy: 0.8735 - val_loss: 0.3951 - val_accuracy: 0.8544\n",
            "Epoch 86/100\n",
            "829/829 [==============================] - 6s 7ms/step - loss: 0.3161 - accuracy: 0.8736 - val_loss: 0.3502 - val_accuracy: 0.8713\n",
            "Epoch 87/100\n",
            "829/829 [==============================] - 5s 6ms/step - loss: 0.3148 - accuracy: 0.8783 - val_loss: 0.3369 - val_accuracy: 0.8788\n",
            "Epoch 88/100\n",
            "829/829 [==============================] - 6s 7ms/step - loss: 0.3087 - accuracy: 0.8757 - val_loss: 0.4451 - val_accuracy: 0.8371\n",
            "Epoch 89/100\n",
            "829/829 [==============================] - 6s 7ms/step - loss: 0.3033 - accuracy: 0.8780 - val_loss: 0.3813 - val_accuracy: 0.8604\n",
            "Epoch 90/100\n",
            "829/829 [==============================] - 5s 6ms/step - loss: 0.3022 - accuracy: 0.8793 - val_loss: 0.4451 - val_accuracy: 0.8417\n",
            "Epoch 91/100\n",
            "829/829 [==============================] - 6s 7ms/step - loss: 0.2942 - accuracy: 0.8834 - val_loss: 0.4496 - val_accuracy: 0.8352\n",
            "Epoch 92/100\n",
            "829/829 [==============================] - 6s 7ms/step - loss: 0.2836 - accuracy: 0.8882 - val_loss: 0.3700 - val_accuracy: 0.8678\n",
            "Epoch 93/100\n",
            "829/829 [==============================] - 6s 7ms/step - loss: 0.2859 - accuracy: 0.8879 - val_loss: 0.3413 - val_accuracy: 0.8767\n",
            "Epoch 94/100\n",
            "829/829 [==============================] - 5s 7ms/step - loss: 0.2991 - accuracy: 0.8818 - val_loss: 0.3480 - val_accuracy: 0.8760\n",
            "Epoch 95/100\n",
            "829/829 [==============================] - 5s 7ms/step - loss: 0.2798 - accuracy: 0.8908 - val_loss: 0.4493 - val_accuracy: 0.8398\n",
            "Epoch 96/100\n",
            "829/829 [==============================] - 6s 7ms/step - loss: 0.2763 - accuracy: 0.8917 - val_loss: 0.3669 - val_accuracy: 0.8689\n",
            "Epoch 97/100\n",
            "829/829 [==============================] - 5s 6ms/step - loss: 0.2762 - accuracy: 0.8897 - val_loss: 0.3396 - val_accuracy: 0.8826\n",
            "Epoch 98/100\n",
            "829/829 [==============================] - 6s 7ms/step - loss: 0.2739 - accuracy: 0.8917 - val_loss: 0.7499 - val_accuracy: 0.7624\n",
            "Epoch 99/100\n",
            "829/829 [==============================] - 5s 6ms/step - loss: 0.2731 - accuracy: 0.8921 - val_loss: 0.3801 - val_accuracy: 0.8635\n",
            "Epoch 100/100\n",
            "829/829 [==============================] - 5s 6ms/step - loss: 0.2896 - accuracy: 0.8893 - val_loss: 0.3105 - val_accuracy: 0.8900\n"
          ]
        }
      ]
    },
    {
      "cell_type": "code",
      "metadata": {
        "colab": {
          "base_uri": "https://localhost:8080/",
          "height": 295
        },
        "id": "ngLTjB4S0Dpt",
        "outputId": "388c22ae-f694-4760-d834-0db4f3650be1"
      },
      "source": [
        "plt.plot(hist.history['accuracy'])\n",
        "plt.plot(hist.history['val_accuracy'])\n",
        "plt.title('Accuracy')\n",
        "plt.ylabel('Accuracy')\n",
        "plt.xlabel('epoch')\n",
        "plt.legend(['train', 'val'])\n",
        "plt.show()"
      ],
      "execution_count": 399,
      "outputs": [
        {
          "output_type": "display_data",
          "data": {
            "image/png": "[encoded data removed]",
            "text/plain": [
              "<Figure size 432x288 with 1 Axes>"
            ]
          },
          "metadata": {
            "needs_background": "light"
          }
        }
      ]
    },
    {
      "cell_type": "code",
      "metadata": {
        "colab": {
          "base_uri": "https://localhost:8080/",
          "height": 295
        },
        "id": "AEkWf9D20QqK",
        "outputId": "fc15af27-4afa-4663-9e8d-32217906f2de"
      },
      "source": [
        "plt.plot(hist.history['loss'])\n",
        "plt.plot(hist.history['val_loss'])\n",
        "plt.title('Loss')\n",
        "plt.ylabel('Loss')\n",
        "plt.xlabel('epoch')\n",
        "plt.legend(['train', 'val'])\n",
        "plt.show()"
      ],
      "execution_count": 400,
      "outputs": [
        {
          "output_type": "display_data",
          "data": {
            "image/png": "[encoded data removed]",
            "text/plain": [
              "<Figure size 432x288 with 1 Axes>"
            ]
          },
          "metadata": {
            "needs_background": "light"
          }
        }
      ]
    },
    {
      "cell_type": "code",
      "source": [
        "model.evaluate(X_test, y_test)"
      ],
      "metadata": {
        "colab": {
          "base_uri": "https://localhost:8080/"
        },
        "id": "yd6mOMLTNwdb",
        "outputId": "e6cebbbc-9aec-4e98-d0ca-de492d46aa02"
      },
      "execution_count": 416,
      "outputs": [
        {
          "output_type": "stream",
          "name": "stdout",
          "text": [
            "346/346 [==============================] - 1s 2ms/step - loss: 0.3276 - accuracy: 0.8825\n"
          ]
        },
        {
          "output_type": "execute_result",
          "data": {
            "text/plain": [
              "[0.3276081383228302, 0.882491409778595]"
            ]
          },
          "metadata": {},
          "execution_count": 416
        }
      ]
    },
    {
      "cell_type": "code",
      "metadata": {
        "colab": {
          "base_uri": "https://localhost:8080/",
          "height": 269
        },
        "id": "KGi6Xj1nHZDB",
        "outputId": "77e738db-7898-400e-f3c4-5a7ac77b83dd"
      },
      "source": [
        "X_pred= data30g.loc[1000:1250]\n",
        "y_pred= model.predict(X_pred)\n",
        "y_pred\n",
        "plt.plot(y_pred)\n",
        "plt.ylim(0,1)\n",
        "plt.legend(['normal', '6g','10g', '15g','20g','25g','30g','35g'])\n",
        "plt.show()"
      ],
      "execution_count": 419,
      "outputs": [
        {
          "output_type": "display_data",
          "data": {
            "image/png": "[encoded data removed]",
            "text/plain": [
              "<Figure size 432x288 with 1 Axes>"
            ]
          },
          "metadata": {
            "needs_background": "light"
          }
        }
      ]
    },
    {
      "cell_type": "code",
      "metadata": {
        "colab": {
          "base_uri": "https://localhost:8080/",
          "height": 423
        },
        "id": "VFNxln7km-k6",
        "outputId": "d0558b18-0c56-4ca8-a7e6-44c66a41635c"
      },
      "source": [
        "nb1 = pd.DataFrame(np.ones(int(len(dataNormal)),dtype=int))\n",
        "nb2 = pd.DataFrame(np.zeros(int(len(data6g)),dtype=int))\n",
        "nb3 = pd.DataFrame(np.full((int(len(data10g)),1),0))\n",
        "nb4 = pd.DataFrame(np.full((int(len(data15g)),1),0))\n",
        "nb5 = pd.DataFrame(np.full((int(len(data20g)),1),0))\n",
        "nb6 = pd.DataFrame(np.full((int(len(data25g)),1),0))\n",
        "nb7 = pd.DataFrame(np.full((int(len(data30g)),1),0))\n",
        "nb8 = pd.DataFrame(np.full((int(len(data35g)),1),0))\n",
        "yb = pd.concat([nb1,nb2,nb3,nb4,nb5,nb6,nb7,nb8], ignore_index=True)\n",
        "yb"
      ],
      "execution_count": 386,
      "outputs": [
        {
          "output_type": "execute_result",
          "data": {
            "text/html": [
              "<div>\n",
              "<style scoped>\n",
              "    .dataframe tbody tr th:only-of-type {\n",
              "        vertical-align: middle;\n",
              "    }\n",
              "\n",
              "    .dataframe tbody tr th {\n",
              "        vertical-align: top;\n",
              "    }\n",
              "\n",
              "    .dataframe thead th {\n",
              "        text-align: right;\n",
              "    }\n",
              "</style>\n",
              "<table border=\"1\" class=\"dataframe\">\n",
              "  <thead>\n",
              "    <tr style=\"text-align: right;\">\n",
              "      <th></th>\n",
              "      <th>0</th>\n",
              "    </tr>\n",
              "  </thead>\n",
              "  <tbody>\n",
              "    <tr>\n",
              "      <th>0</th>\n",
              "      <td>1</td>\n",
              "    </tr>\n",
              "    <tr>\n",
              "      <th>1</th>\n",
              "      <td>1</td>\n",
              "    </tr>\n",
              "    <tr>\n",
              "      <th>2</th>\n",
              "      <td>1</td>\n",
              "    </tr>\n",
              "    <tr>\n",
              "      <th>3</th>\n",
              "      <td>1</td>\n",
              "    </tr>\n",
              "    <tr>\n",
              "      <th>4</th>\n",
              "      <td>1</td>\n",
              "    </tr>\n",
              "    <tr>\n",
              "      <th>...</th>\n",
              "      <td>...</td>\n",
              "    </tr>\n",
              "    <tr>\n",
              "      <th>45985</th>\n",
              "      <td>0</td>\n",
              "    </tr>\n",
              "    <tr>\n",
              "      <th>45986</th>\n",
              "      <td>0</td>\n",
              "    </tr>\n",
              "    <tr>\n",
              "      <th>45987</th>\n",
              "      <td>0</td>\n",
              "    </tr>\n",
              "    <tr>\n",
              "      <th>45988</th>\n",
              "      <td>0</td>\n",
              "    </tr>\n",
              "    <tr>\n",
              "      <th>45989</th>\n",
              "      <td>0</td>\n",
              "    </tr>\n",
              "  </tbody>\n",
              "</table>\n",
              "<p>45990 rows × 1 columns</p>\n",
              "</div>"
            ],
            "text/plain": [
              "       0\n",
              "0      1\n",
              "1      1\n",
              "2      1\n",
              "3      1\n",
              "4      1\n",
              "...   ..\n",
              "45985  0\n",
              "45986  0\n",
              "45987  0\n",
              "45988  0\n",
              "45989  0\n",
              "\n",
              "[45990 rows x 1 columns]"
            ]
          },
          "metadata": {},
          "execution_count": 386
        }
      ]
    },
    {
      "cell_type": "code",
      "metadata": {
        "id": "n3zMQhPGnZsr"
      },
      "source": [
        "Xb = pd.concat([dataNormal,data6g,data10g,data15g,data20g,data25g,data30g,data35g],ignore_index=True)"
      ],
      "execution_count": 387,
      "outputs": []
    },
    {
      "cell_type": "code",
      "metadata": {
        "id": "6Lqx8UlBn87h"
      },
      "source": [
        "X_train_b, X_test_b, y_train_b, y_test_b = train_test_split(Xb, yb, test_size=0.25, shuffle=True)"
      ],
      "execution_count": 388,
      "outputs": []
    },
    {
      "cell_type": "code",
      "metadata": {
        "colab": {
          "base_uri": "https://localhost:8080/"
        },
        "id": "8ZD8aWhyMHEe",
        "outputId": "605872dd-b9bb-43bf-b1ab-43257d29d625"
      },
      "source": [
        "modelb = tf.keras.models.Sequential()\n",
        "\n",
        "modelb.add(tf.keras.layers.Dense(units=32, activation='relu', input_shape=(8,)))\n",
        "modelb.add(tf.keras.layers.Dense(units= 64, activation='relu'))\n",
        "modelb.add(tf.keras.layers.Dense(units= 128, activation='relu'))\n",
        "modelb.add(tf.keras.layers.Dense(units= 256, activation='relu'))\n",
        "modelb.add(tf.keras.layers.Dense(units= 128, activation='relu'))\n",
        "modelb.add(tf.keras.layers.Dense(units= 64, activation='relu'))\n",
        "modelb.add(tf.keras.layers.Dense(units= 32, activation='relu'))\n",
        "modelb.add(tf.keras.layers.Dense(units= 1, activation='sigmoid'))\n",
        "\n",
        "modelb.compile(optimizer='adam', loss='binary_crossentropy', metrics=['accuracy'])\n",
        "modelb.summary()"
      ],
      "execution_count": 389,
      "outputs": [
        {
          "output_type": "stream",
          "name": "stdout",
          "text": [
            "Model: \"sequential_24\"\n",
            "_________________________________________________________________\n",
            " Layer (type)                Output Shape              Param #   \n",
            "=================================================================\n",
            " dense_200 (Dense)           (None, 32)                288       \n",
            "                                                                 \n",
            " dense_201 (Dense)           (None, 64)                2112      \n",
            "                                                                 \n",
            " dense_202 (Dense)           (None, 128)               8320      \n",
            "                                                                 \n",
            " dense_203 (Dense)           (None, 256)               33024     \n",
            "                                                                 \n",
            " dense_204 (Dense)           (None, 128)               32896     \n",
            "                                                                 \n",
            " dense_205 (Dense)           (None, 64)                8256      \n",
            "                                                                 \n",
            " dense_206 (Dense)           (None, 32)                2080      \n",
            "                                                                 \n",
            " dense_207 (Dense)           (None, 1)                 33        \n",
            "                                                                 \n",
            "=================================================================\n",
            "Total params: 87,009\n",
            "Trainable params: 87,009\n",
            "Non-trainable params: 0\n",
            "_________________________________________________________________\n"
          ]
        }
      ]
    },
    {
      "cell_type": "code",
      "metadata": {
        "colab": {
          "base_uri": "https://localhost:8080/",
          "height": 300
        },
        "id": "Vp-Vqy18MnTA",
        "outputId": "54a5a1bc-13aa-46bb-c030-e0f6e7d7b8cf"
      },
      "source": [
        "y_train_b.describe()"
      ],
      "execution_count": 390,
      "outputs": [
        {
          "output_type": "execute_result",
          "data": {
            "text/html": [
              "<div>\n",
              "<style scoped>\n",
              "    .dataframe tbody tr th:only-of-type {\n",
              "        vertical-align: middle;\n",
              "    }\n",
              "\n",
              "    .dataframe tbody tr th {\n",
              "        vertical-align: top;\n",
              "    }\n",
              "\n",
              "    .dataframe thead th {\n",
              "        text-align: right;\n",
              "    }\n",
              "</style>\n",
              "<table border=\"1\" class=\"dataframe\">\n",
              "  <thead>\n",
              "    <tr style=\"text-align: right;\">\n",
              "      <th></th>\n",
              "      <th>0</th>\n",
              "    </tr>\n",
              "  </thead>\n",
              "  <tbody>\n",
              "    <tr>\n",
              "      <th>count</th>\n",
              "      <td>34492.000000</td>\n",
              "    </tr>\n",
              "    <tr>\n",
              "      <th>mean</th>\n",
              "      <td>0.128407</td>\n",
              "    </tr>\n",
              "    <tr>\n",
              "      <th>std</th>\n",
              "      <td>0.334547</td>\n",
              "    </tr>\n",
              "    <tr>\n",
              "      <th>min</th>\n",
              "      <td>0.000000</td>\n",
              "    </tr>\n",
              "    <tr>\n",
              "      <th>25%</th>\n",
              "      <td>0.000000</td>\n",
              "    </tr>\n",
              "    <tr>\n",
              "      <th>50%</th>\n",
              "      <td>0.000000</td>\n",
              "    </tr>\n",
              "    <tr>\n",
              "      <th>75%</th>\n",
              "      <td>0.000000</td>\n",
              "    </tr>\n",
              "    <tr>\n",
              "      <th>max</th>\n",
              "      <td>1.000000</td>\n",
              "    </tr>\n",
              "  </tbody>\n",
              "</table>\n",
              "</div>"
            ],
            "text/plain": [
              "                  0\n",
              "count  34492.000000\n",
              "mean       0.128407\n",
              "std        0.334547\n",
              "min        0.000000\n",
              "25%        0.000000\n",
              "50%        0.000000\n",
              "75%        0.000000\n",
              "max        1.000000"
            ]
          },
          "metadata": {},
          "execution_count": 390
        }
      ]
    },
    {
      "cell_type": "code",
      "metadata": {
        "colab": {
          "base_uri": "https://localhost:8080/"
        },
        "id": "QwjDWr42Nd5D",
        "outputId": "1effbe76-68e5-471a-8f82-6fc543c3bf55"
      },
      "source": [
        "histb = modelb.fit(X_train_b , y_train_b , epochs=100, validation_split=0.2)"
      ],
      "execution_count": 406,
      "outputs": [
        {
          "output_type": "stream",
          "name": "stdout",
          "text": [
            "Epoch 1/100\n",
            "863/863 [==============================] - 4s 3ms/step - loss: 0.2553 - accuracy: 0.9033 - val_loss: 0.2253 - val_accuracy: 0.9149\n",
            "Epoch 2/100\n",
            "863/863 [==============================] - 3s 3ms/step - loss: 0.2023 - accuracy: 0.9268 - val_loss: 0.1890 - val_accuracy: 0.9313\n",
            "Epoch 3/100\n",
            "863/863 [==============================] - 3s 3ms/step - loss: 0.1734 - accuracy: 0.9389 - val_loss: 0.1706 - val_accuracy: 0.9448\n",
            "Epoch 4/100\n",
            "863/863 [==============================] - 3s 3ms/step - loss: 0.1586 - accuracy: 0.9430 - val_loss: 0.1407 - val_accuracy: 0.9509\n",
            "Epoch 5/100\n",
            "863/863 [==============================] - 3s 3ms/step - loss: 0.1404 - accuracy: 0.9502 - val_loss: 0.1186 - val_accuracy: 0.9603\n",
            "Epoch 6/100\n",
            "863/863 [==============================] - 3s 3ms/step - loss: 0.1316 - accuracy: 0.9546 - val_loss: 0.1321 - val_accuracy: 0.9536\n",
            "Epoch 7/100\n",
            "863/863 [==============================] - 3s 3ms/step - loss: 0.1205 - accuracy: 0.9572 - val_loss: 0.1088 - val_accuracy: 0.9620\n",
            "Epoch 8/100\n",
            "863/863 [==============================] - 3s 3ms/step - loss: 0.1137 - accuracy: 0.9592 - val_loss: 0.1032 - val_accuracy: 0.9627\n",
            "Epoch 9/100\n",
            "863/863 [==============================] - 3s 3ms/step - loss: 0.1072 - accuracy: 0.9622 - val_loss: 0.1213 - val_accuracy: 0.9548\n",
            "Epoch 10/100\n",
            "863/863 [==============================] - 3s 3ms/step - loss: 0.0987 - accuracy: 0.9643 - val_loss: 0.0931 - val_accuracy: 0.9661\n",
            "Epoch 11/100\n",
            "863/863 [==============================] - 3s 3ms/step - loss: 0.0943 - accuracy: 0.9657 - val_loss: 0.0975 - val_accuracy: 0.9662\n",
            "Epoch 12/100\n",
            "863/863 [==============================] - 3s 3ms/step - loss: 0.0898 - accuracy: 0.9677 - val_loss: 0.1081 - val_accuracy: 0.9587\n",
            "Epoch 13/100\n",
            "863/863 [==============================] - 3s 3ms/step - loss: 0.0877 - accuracy: 0.9682 - val_loss: 0.0786 - val_accuracy: 0.9704\n",
            "Epoch 14/100\n",
            "863/863 [==============================] - 3s 3ms/step - loss: 0.0870 - accuracy: 0.9683 - val_loss: 0.0826 - val_accuracy: 0.9703\n",
            "Epoch 15/100\n",
            "863/863 [==============================] - 3s 3ms/step - loss: 0.0818 - accuracy: 0.9692 - val_loss: 0.0772 - val_accuracy: 0.9706\n",
            "Epoch 16/100\n",
            "863/863 [==============================] - 3s 3ms/step - loss: 0.0787 - accuracy: 0.9701 - val_loss: 0.0850 - val_accuracy: 0.9680\n",
            "Epoch 17/100\n",
            "863/863 [==============================] - 3s 3ms/step - loss: 0.0778 - accuracy: 0.9710 - val_loss: 0.1008 - val_accuracy: 0.9636\n",
            "Epoch 18/100\n",
            "863/863 [==============================] - 3s 3ms/step - loss: 0.0731 - accuracy: 0.9740 - val_loss: 0.0753 - val_accuracy: 0.9732\n",
            "Epoch 19/100\n",
            "863/863 [==============================] - 3s 3ms/step - loss: 0.0731 - accuracy: 0.9736 - val_loss: 0.0748 - val_accuracy: 0.9729\n",
            "Epoch 20/100\n",
            "863/863 [==============================] - 3s 3ms/step - loss: 0.0733 - accuracy: 0.9731 - val_loss: 0.0732 - val_accuracy: 0.9739\n",
            "Epoch 21/100\n",
            "863/863 [==============================] - 3s 3ms/step - loss: 0.0707 - accuracy: 0.9739 - val_loss: 0.0671 - val_accuracy: 0.9762\n",
            "Epoch 22/100\n",
            "863/863 [==============================] - 3s 3ms/step - loss: 0.0701 - accuracy: 0.9748 - val_loss: 0.0736 - val_accuracy: 0.9726\n",
            "Epoch 23/100\n",
            "863/863 [==============================] - 3s 3ms/step - loss: 0.0694 - accuracy: 0.9738 - val_loss: 0.1343 - val_accuracy: 0.9561\n",
            "Epoch 24/100\n",
            "863/863 [==============================] - 3s 3ms/step - loss: 0.0685 - accuracy: 0.9748 - val_loss: 0.0869 - val_accuracy: 0.9672\n",
            "Epoch 25/100\n",
            "863/863 [==============================] - 3s 3ms/step - loss: 0.0660 - accuracy: 0.9752 - val_loss: 0.0660 - val_accuracy: 0.9772\n",
            "Epoch 26/100\n",
            "863/863 [==============================] - 3s 3ms/step - loss: 0.0658 - accuracy: 0.9767 - val_loss: 0.0681 - val_accuracy: 0.9758\n",
            "Epoch 27/100\n",
            "863/863 [==============================] - 3s 3ms/step - loss: 0.0628 - accuracy: 0.9778 - val_loss: 0.0692 - val_accuracy: 0.9756\n",
            "Epoch 28/100\n",
            "863/863 [==============================] - 3s 3ms/step - loss: 0.0625 - accuracy: 0.9778 - val_loss: 0.0656 - val_accuracy: 0.9783\n",
            "Epoch 29/100\n",
            "863/863 [==============================] - 3s 3ms/step - loss: 0.0633 - accuracy: 0.9774 - val_loss: 0.0734 - val_accuracy: 0.9743\n",
            "Epoch 30/100\n",
            "863/863 [==============================] - 3s 3ms/step - loss: 0.0626 - accuracy: 0.9768 - val_loss: 0.0824 - val_accuracy: 0.9745\n",
            "Epoch 31/100\n",
            "863/863 [==============================] - 3s 3ms/step - loss: 0.0615 - accuracy: 0.9771 - val_loss: 0.0977 - val_accuracy: 0.9613\n",
            "Epoch 32/100\n",
            "863/863 [==============================] - 3s 3ms/step - loss: 0.0617 - accuracy: 0.9782 - val_loss: 0.0926 - val_accuracy: 0.9675\n",
            "Epoch 33/100\n",
            "863/863 [==============================] - 3s 3ms/step - loss: 0.0616 - accuracy: 0.9781 - val_loss: 0.0740 - val_accuracy: 0.9720\n",
            "Epoch 34/100\n",
            "863/863 [==============================] - 3s 3ms/step - loss: 0.0590 - accuracy: 0.9791 - val_loss: 0.0932 - val_accuracy: 0.9671\n",
            "Epoch 35/100\n",
            "863/863 [==============================] - 3s 3ms/step - loss: 0.0600 - accuracy: 0.9780 - val_loss: 0.0626 - val_accuracy: 0.9790\n",
            "Epoch 36/100\n",
            "863/863 [==============================] - 3s 3ms/step - loss: 0.0606 - accuracy: 0.9775 - val_loss: 0.0579 - val_accuracy: 0.9807\n",
            "Epoch 37/100\n",
            "863/863 [==============================] - 3s 3ms/step - loss: 0.0574 - accuracy: 0.9791 - val_loss: 0.0620 - val_accuracy: 0.9783\n",
            "Epoch 38/100\n",
            "863/863 [==============================] - 3s 3ms/step - loss: 0.0576 - accuracy: 0.9793 - val_loss: 0.0647 - val_accuracy: 0.9774\n",
            "Epoch 39/100\n",
            "863/863 [==============================] - 3s 3ms/step - loss: 0.0574 - accuracy: 0.9786 - val_loss: 0.0687 - val_accuracy: 0.9758\n",
            "Epoch 40/100\n",
            "863/863 [==============================] - 3s 3ms/step - loss: 0.0558 - accuracy: 0.9809 - val_loss: 0.0670 - val_accuracy: 0.9772\n",
            "Epoch 41/100\n",
            "863/863 [==============================] - 3s 3ms/step - loss: 0.0535 - accuracy: 0.9801 - val_loss: 0.0805 - val_accuracy: 0.9683\n",
            "Epoch 42/100\n",
            "863/863 [==============================] - 3s 3ms/step - loss: 0.0552 - accuracy: 0.9804 - val_loss: 0.0565 - val_accuracy: 0.9800\n",
            "Epoch 43/100\n",
            "863/863 [==============================] - 3s 3ms/step - loss: 0.0526 - accuracy: 0.9807 - val_loss: 0.0683 - val_accuracy: 0.9770\n",
            "Epoch 44/100\n",
            "863/863 [==============================] - 3s 3ms/step - loss: 0.0526 - accuracy: 0.9808 - val_loss: 0.0644 - val_accuracy: 0.9783\n",
            "Epoch 45/100\n",
            "863/863 [==============================] - 3s 3ms/step - loss: 0.0527 - accuracy: 0.9809 - val_loss: 0.0610 - val_accuracy: 0.9797\n",
            "Epoch 46/100\n",
            "863/863 [==============================] - 3s 3ms/step - loss: 0.0525 - accuracy: 0.9806 - val_loss: 0.0760 - val_accuracy: 0.9703\n",
            "Epoch 47/100\n",
            "863/863 [==============================] - 3s 3ms/step - loss: 0.0516 - accuracy: 0.9807 - val_loss: 0.0623 - val_accuracy: 0.9770\n",
            "Epoch 48/100\n",
            "863/863 [==============================] - 3s 3ms/step - loss: 0.0494 - accuracy: 0.9826 - val_loss: 0.0590 - val_accuracy: 0.9800\n",
            "Epoch 49/100\n",
            "863/863 [==============================] - 3s 3ms/step - loss: 0.0550 - accuracy: 0.9808 - val_loss: 0.0587 - val_accuracy: 0.9783\n",
            "Epoch 50/100\n",
            "863/863 [==============================] - 3s 3ms/step - loss: 0.0530 - accuracy: 0.9806 - val_loss: 0.0765 - val_accuracy: 0.9759\n",
            "Epoch 51/100\n",
            "863/863 [==============================] - 3s 3ms/step - loss: 0.0504 - accuracy: 0.9822 - val_loss: 0.0628 - val_accuracy: 0.9774\n",
            "Epoch 52/100\n",
            "863/863 [==============================] - 3s 3ms/step - loss: 0.0479 - accuracy: 0.9826 - val_loss: 0.0611 - val_accuracy: 0.9780\n",
            "Epoch 53/100\n",
            "863/863 [==============================] - 3s 3ms/step - loss: 0.0486 - accuracy: 0.9824 - val_loss: 0.0573 - val_accuracy: 0.9816\n",
            "Epoch 54/100\n",
            "863/863 [==============================] - 3s 3ms/step - loss: 0.0491 - accuracy: 0.9825 - val_loss: 0.0538 - val_accuracy: 0.9814\n",
            "Epoch 55/100\n",
            "863/863 [==============================] - 3s 3ms/step - loss: 0.0477 - accuracy: 0.9826 - val_loss: 0.0634 - val_accuracy: 0.9777\n",
            "Epoch 56/100\n",
            "863/863 [==============================] - 3s 3ms/step - loss: 0.0460 - accuracy: 0.9831 - val_loss: 0.0810 - val_accuracy: 0.9688\n",
            "Epoch 57/100\n",
            "863/863 [==============================] - 3s 3ms/step - loss: 0.0476 - accuracy: 0.9830 - val_loss: 0.0639 - val_accuracy: 0.9793\n",
            "Epoch 58/100\n",
            "863/863 [==============================] - 3s 3ms/step - loss: 0.0468 - accuracy: 0.9823 - val_loss: 0.0518 - val_accuracy: 0.9829\n",
            "Epoch 59/100\n",
            "863/863 [==============================] - 3s 3ms/step - loss: 0.0473 - accuracy: 0.9831 - val_loss: 0.0575 - val_accuracy: 0.9800\n",
            "Epoch 60/100\n",
            "863/863 [==============================] - 3s 3ms/step - loss: 0.0495 - accuracy: 0.9817 - val_loss: 0.0535 - val_accuracy: 0.9820\n",
            "Epoch 61/100\n",
            "863/863 [==============================] - 3s 3ms/step - loss: 0.0445 - accuracy: 0.9845 - val_loss: 0.0607 - val_accuracy: 0.9800\n",
            "Epoch 62/100\n",
            "863/863 [==============================] - 3s 3ms/step - loss: 0.0497 - accuracy: 0.9835 - val_loss: 0.0552 - val_accuracy: 0.9809\n",
            "Epoch 63/100\n",
            "863/863 [==============================] - 3s 3ms/step - loss: 0.0454 - accuracy: 0.9839 - val_loss: 0.0623 - val_accuracy: 0.9761\n",
            "Epoch 64/100\n",
            "863/863 [==============================] - 3s 3ms/step - loss: 0.0441 - accuracy: 0.9843 - val_loss: 0.0521 - val_accuracy: 0.9839\n",
            "Epoch 65/100\n",
            "863/863 [==============================] - 3s 3ms/step - loss: 0.0483 - accuracy: 0.9826 - val_loss: 0.0689 - val_accuracy: 0.9777\n",
            "Epoch 66/100\n",
            "863/863 [==============================] - 3s 3ms/step - loss: 0.0455 - accuracy: 0.9838 - val_loss: 0.0579 - val_accuracy: 0.9790\n",
            "Epoch 67/100\n",
            "863/863 [==============================] - 3s 3ms/step - loss: 0.0425 - accuracy: 0.9845 - val_loss: 0.0613 - val_accuracy: 0.9784\n",
            "Epoch 68/100\n",
            "863/863 [==============================] - 3s 3ms/step - loss: 0.0435 - accuracy: 0.9844 - val_loss: 0.0587 - val_accuracy: 0.9800\n",
            "Epoch 69/100\n",
            "863/863 [==============================] - 3s 3ms/step - loss: 0.0421 - accuracy: 0.9840 - val_loss: 0.0596 - val_accuracy: 0.9775\n",
            "Epoch 70/100\n",
            "863/863 [==============================] - 3s 3ms/step - loss: 0.0444 - accuracy: 0.9839 - val_loss: 0.0604 - val_accuracy: 0.9780\n",
            "Epoch 71/100\n",
            "863/863 [==============================] - 3s 3ms/step - loss: 0.0441 - accuracy: 0.9850 - val_loss: 0.0566 - val_accuracy: 0.9817\n",
            "Epoch 72/100\n",
            "863/863 [==============================] - 3s 3ms/step - loss: 0.0432 - accuracy: 0.9844 - val_loss: 0.0648 - val_accuracy: 0.9785\n",
            "Epoch 73/100\n",
            "863/863 [==============================] - 3s 3ms/step - loss: 0.0421 - accuracy: 0.9847 - val_loss: 0.0507 - val_accuracy: 0.9835\n",
            "Epoch 74/100\n",
            "863/863 [==============================] - 3s 3ms/step - loss: 0.0430 - accuracy: 0.9842 - val_loss: 0.0599 - val_accuracy: 0.9793\n",
            "Epoch 75/100\n",
            "863/863 [==============================] - 3s 3ms/step - loss: 0.0432 - accuracy: 0.9839 - val_loss: 0.0621 - val_accuracy: 0.9801\n",
            "Epoch 76/100\n",
            "863/863 [==============================] - 3s 3ms/step - loss: 0.0429 - accuracy: 0.9847 - val_loss: 0.0458 - val_accuracy: 0.9855\n",
            "Epoch 77/100\n",
            "863/863 [==============================] - 3s 3ms/step - loss: 0.0410 - accuracy: 0.9854 - val_loss: 0.0491 - val_accuracy: 0.9842\n",
            "Epoch 78/100\n",
            "863/863 [==============================] - 3s 3ms/step - loss: 0.0405 - accuracy: 0.9853 - val_loss: 0.0519 - val_accuracy: 0.9813\n",
            "Epoch 79/100\n",
            "863/863 [==============================] - 3s 3ms/step - loss: 0.0425 - accuracy: 0.9850 - val_loss: 0.0603 - val_accuracy: 0.9797\n",
            "Epoch 80/100\n",
            "863/863 [==============================] - 3s 3ms/step - loss: 0.0408 - accuracy: 0.9849 - val_loss: 0.0550 - val_accuracy: 0.9812\n",
            "Epoch 81/100\n",
            "863/863 [==============================] - 3s 3ms/step - loss: 0.0399 - accuracy: 0.9848 - val_loss: 0.0959 - val_accuracy: 0.9674\n",
            "Epoch 82/100\n",
            "863/863 [==============================] - 3s 3ms/step - loss: 0.0410 - accuracy: 0.9849 - val_loss: 0.0478 - val_accuracy: 0.9817\n",
            "Epoch 83/100\n",
            "863/863 [==============================] - 3s 3ms/step - loss: 0.0416 - accuracy: 0.9854 - val_loss: 0.0620 - val_accuracy: 0.9780\n",
            "Epoch 84/100\n",
            "863/863 [==============================] - 3s 3ms/step - loss: 0.0380 - accuracy: 0.9856 - val_loss: 0.0681 - val_accuracy: 0.9780\n",
            "Epoch 85/100\n",
            "863/863 [==============================] - 3s 3ms/step - loss: 0.0405 - accuracy: 0.9852 - val_loss: 0.0566 - val_accuracy: 0.9812\n",
            "Epoch 86/100\n",
            "863/863 [==============================] - 3s 3ms/step - loss: 0.0392 - accuracy: 0.9856 - val_loss: 0.0557 - val_accuracy: 0.9800\n",
            "Epoch 87/100\n",
            "863/863 [==============================] - 3s 3ms/step - loss: 0.0393 - accuracy: 0.9866 - val_loss: 0.0489 - val_accuracy: 0.9832\n",
            "Epoch 88/100\n",
            "863/863 [==============================] - 3s 3ms/step - loss: 0.0385 - accuracy: 0.9869 - val_loss: 0.0625 - val_accuracy: 0.9788\n",
            "Epoch 89/100\n",
            "863/863 [==============================] - 3s 3ms/step - loss: 0.0379 - accuracy: 0.9864 - val_loss: 0.0496 - val_accuracy: 0.9835\n",
            "Epoch 90/100\n",
            "863/863 [==============================] - 3s 3ms/step - loss: 0.0367 - accuracy: 0.9871 - val_loss: 0.0482 - val_accuracy: 0.9832\n",
            "Epoch 91/100\n",
            "863/863 [==============================] - 3s 3ms/step - loss: 0.0412 - accuracy: 0.9856 - val_loss: 0.0823 - val_accuracy: 0.9677\n",
            "Epoch 92/100\n",
            "863/863 [==============================] - 3s 3ms/step - loss: 0.0379 - accuracy: 0.9867 - val_loss: 0.0579 - val_accuracy: 0.9780\n",
            "Epoch 93/100\n",
            "863/863 [==============================] - 3s 3ms/step - loss: 0.0371 - accuracy: 0.9864 - val_loss: 0.0553 - val_accuracy: 0.9823\n",
            "Epoch 94/100\n",
            "863/863 [==============================] - 3s 3ms/step - loss: 0.0381 - accuracy: 0.9862 - val_loss: 0.0570 - val_accuracy: 0.9800\n",
            "Epoch 95/100\n",
            "863/863 [==============================] - 3s 3ms/step - loss: 0.0348 - accuracy: 0.9875 - val_loss: 0.0494 - val_accuracy: 0.9845\n",
            "Epoch 96/100\n",
            "863/863 [==============================] - 3s 3ms/step - loss: 0.0346 - accuracy: 0.9878 - val_loss: 0.0593 - val_accuracy: 0.9843\n",
            "Epoch 97/100\n",
            "863/863 [==============================] - 4s 4ms/step - loss: 0.0368 - accuracy: 0.9870 - val_loss: 0.0571 - val_accuracy: 0.9803\n",
            "Epoch 98/100\n",
            "863/863 [==============================] - 3s 3ms/step - loss: 0.0358 - accuracy: 0.9879 - val_loss: 0.0618 - val_accuracy: 0.9790\n",
            "Epoch 99/100\n",
            "863/863 [==============================] - 3s 3ms/step - loss: 0.0325 - accuracy: 0.9876 - val_loss: 0.0593 - val_accuracy: 0.9845\n",
            "Epoch 100/100\n",
            "863/863 [==============================] - 3s 3ms/step - loss: 0.0346 - accuracy: 0.9883 - val_loss: 0.0583 - val_accuracy: 0.9833\n"
          ]
        }
      ]
    },
    {
      "cell_type": "code",
      "source": [
        "plt.plot(histb.history['accuracy'])\n",
        "plt.plot(histb.history['val_accuracy'])\n",
        "plt.title('Accuracy')\n",
        "plt.ylabel('Accuracy')\n",
        "plt.xlabel('epoch')\n",
        "plt.legend(['train', 'val'])\n",
        "plt.show()"
      ],
      "metadata": {
        "colab": {
          "base_uri": "https://localhost:8080/",
          "height": 295
        },
        "id": "BRAR0parGCPU",
        "outputId": "b53306a3-52bf-4706-e2b7-a7cebbbea548"
      },
      "execution_count": 408,
      "outputs": [
        {
          "output_type": "display_data",
          "data": {
            "image/png": "[encoded data removed]",
            "text/plain": [
              "<Figure size 432x288 with 1 Axes>"
            ]
          },
          "metadata": {
            "needs_background": "light"
          }
        }
      ]
    },
    {
      "cell_type": "code",
      "source": [
        "plt.plot(histb.history['loss'])\n",
        "plt.plot(histb.history['val_loss'])\n",
        "plt.title('Loss')\n",
        "plt.ylabel('Loss')\n",
        "plt.xlabel('epoch')\n",
        "plt.legend(['train', 'val'])\n",
        "plt.show()"
      ],
      "metadata": {
        "colab": {
          "base_uri": "https://localhost:8080/",
          "height": 295
        },
        "id": "TVFlGVn6GGqq",
        "outputId": "c6298bf3-e667-4d6d-f0f2-2d11de4c2746"
      },
      "execution_count": 409,
      "outputs": [
        {
          "output_type": "display_data",
          "data": {
            "image/png": "[encoded data removed]",
            "text/plain": [
              "<Figure size 432x288 with 1 Axes>"
            ]
          },
          "metadata": {
            "needs_background": "light"
          }
        }
      ]
    },
    {
      "cell_type": "code",
      "source": [
        "modelb.evaluate(X_test_b, y_test_b)"
      ],
      "metadata": {
        "colab": {
          "base_uri": "https://localhost:8080/"
        },
        "id": "zydWZkhoTTFH",
        "outputId": "9e0a5e13-ece0-4f75-da7f-8994468b5800"
      },
      "execution_count": 420,
      "outputs": [
        {
          "output_type": "stream",
          "name": "stdout",
          "text": [
            "360/360 [==============================] - 1s 2ms/step - loss: 0.0459 - accuracy: 0.9856\n"
          ]
        },
        {
          "output_type": "execute_result",
          "data": {
            "text/plain": [
              "[0.04585926607251167, 0.9856497049331665]"
            ]
          },
          "metadata": {},
          "execution_count": 420
        }
      ]
    },
    {
      "cell_type": "code",
      "metadata": {
        "colab": {
          "base_uri": "https://localhost:8080/",
          "height": 1000
        },
        "id": "HD0th_5yacof",
        "outputId": "df2ca91c-e12d-42e9-e331-423d38dc3465"
      },
      "source": [
        "X_pred_b= data20g.loc[1200:1300]\n",
        "y_pred_b= modelb.predict(X_pred_b)\n",
        "plt.plot(y_pred_b)\n",
        "plt.title('Probability of Normal Functioning')\n",
        "plt.ylabel('Probability (0-1)')\n",
        "plt.xlabel('Sample')\n",
        "plt.ylim(0,1)\n",
        "plt.show()\n",
        "y_pred_b"
      ],
      "execution_count": 423,
      "outputs": [
        {
          "output_type": "display_data",
          "data": {
            "image/png": "[encoded data removed]",
            "text/plain": [
              "<Figure size 432x288 with 1 Axes>"
            ]
          },
          "metadata": {
            "needs_background": "light"
          }
        },
        {
          "output_type": "execute_result",
          "data": {
            "text/plain": [
              "array([[8.11955106e-05],\n",
              "       [1.14667833e-04],\n",
              "       [1.45673752e-04],\n",
              "       [2.63571739e-04],\n",
              "       [3.80218029e-04],\n",
              "       [5.23120165e-04],\n",
              "       [5.82069159e-04],\n",
              "       [6.12229109e-04],\n",
              "       [4.13656235e-04],\n",
              "       [3.37660313e-04],\n",
              "       [4.52101231e-04],\n",
              "       [8.06003809e-04],\n",
              "       [1.51893497e-03],\n",
              "       [1.92403793e-03],\n",
              "       [2.08359957e-03],\n",
              "       [2.31990218e-03],\n",
              "       [2.44808197e-03],\n",
              "       [2.25940347e-03],\n",
              "       [1.87170506e-03],\n",
              "       [1.57353282e-03],\n",
              "       [1.20976567e-03],\n",
              "       [8.55743885e-04],\n",
              "       [7.13229179e-04],\n",
              "       [8.10474157e-04],\n",
              "       [1.07479095e-03],\n",
              "       [1.21909380e-03],\n",
              "       [1.12754107e-03],\n",
              "       [7.66992569e-04],\n",
              "       [3.53753567e-04],\n",
              "       [8.80923544e-05],\n",
              "       [3.37876299e-05],\n",
              "       [1.78553473e-05],\n",
              "       [7.78036429e-06],\n",
              "       [3.14402200e-06],\n",
              "       [2.55342820e-06],\n",
              "       [4.29225702e-06],\n",
              "       [1.01032438e-05],\n",
              "       [2.09798964e-05],\n",
              "       [2.80598288e-05],\n",
              "       [3.29554969e-05],\n",
              "       [3.10026080e-05],\n",
              "       [3.00534884e-05],\n",
              "       [3.15553734e-05],\n",
              "       [4.07820589e-05],\n",
              "       [4.24220816e-05],\n",
              "       [6.64391846e-05],\n",
              "       [1.16380987e-04],\n",
              "       [3.57478857e-04],\n",
              "       [8.94993544e-04],\n",
              "       [1.15016103e-03],\n",
              "       [1.11582875e-03],\n",
              "       [9.72211361e-04],\n",
              "       [5.17636538e-04],\n",
              "       [2.40325928e-04],\n",
              "       [1.10647998e-04],\n",
              "       [6.12333242e-05],\n",
              "       [4.30537402e-05],\n",
              "       [3.77038596e-05],\n",
              "       [4.66228812e-05],\n",
              "       [6.31145740e-05],\n",
              "       [8.17820110e-05],\n",
              "       [9.74993090e-05],\n",
              "       [1.18016476e-04],\n",
              "       [1.56581402e-04],\n",
              "       [3.30924988e-04],\n",
              "       [6.61104918e-04],\n",
              "       [2.40013003e-03],\n",
              "       [6.54396415e-03],\n",
              "       [1.46266818e-02],\n",
              "       [2.09639966e-02],\n",
              "       [2.21438110e-02],\n",
              "       [1.58683956e-02],\n",
              "       [1.61190033e-02],\n",
              "       [2.01913416e-02],\n",
              "       [1.85322165e-02],\n",
              "       [1.41176879e-02],\n",
              "       [1.04141533e-02],\n",
              "       [6.42141700e-03],\n",
              "       [3.97574902e-03],\n",
              "       [2.94116139e-03],\n",
              "       [2.33572721e-03],\n",
              "       [3.75515223e-03],\n",
              "       [5.21099567e-03],\n",
              "       [5.01793623e-03],\n",
              "       [5.41526079e-03],\n",
              "       [7.14176893e-03],\n",
              "       [3.52418423e-03],\n",
              "       [2.23201513e-03],\n",
              "       [5.20864129e-03],\n",
              "       [1.38311982e-02],\n",
              "       [1.31126940e-02],\n",
              "       [1.38420165e-02],\n",
              "       [2.01877952e-02],\n",
              "       [2.39713192e-02],\n",
              "       [1.35853887e-02],\n",
              "       [4.36985493e-03],\n",
              "       [3.14107537e-03],\n",
              "       [5.19475341e-03],\n",
              "       [1.22631788e-02],\n",
              "       [2.13008821e-02],\n",
              "       [1.49608254e-02]], dtype=float32)"
            ]
          },
          "metadata": {},
          "execution_count": 423
        }
      ]
    }
  ]
}